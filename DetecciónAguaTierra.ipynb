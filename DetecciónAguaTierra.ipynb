{
  "cells": [
    {
      "cell_type": "markdown",
      "metadata": {
        "id": "view-in-github",
        "colab_type": "text"
      },
      "source": [
        "<a href=\"https://colab.research.google.com/github/eveungs/deteccionAguaTierra/blob/main/Detecci%C3%B3nAguaTierra.ipynb\" target=\"_parent\"><img src=\"https://colab.research.google.com/assets/colab-badge.svg\" alt=\"Open In Colab\"/></a>"
      ]
    },
    {
      "cell_type": "markdown",
      "source": [
        "\n",
        "\n",
        "---\n",
        "\n",
        "---\n",
        "\n",
        "\n",
        "                     ***APLICACIÓN PARA LA DETECCIÓN DEL LÍMITE AGUA-TIERRA CON METODOLOGÍAS SEMI-AUTOMÁTICAS***\n",
        "\n",
        "\n",
        "---\n",
        "\n",
        "---\n",
        "\n",
        "Esta aplicación genera un producto que permite hacer una distinción clara entre el entorno marino-fluvial y terrestre. Dicha clasificación se puede obtener como un archivo raster o vectorial de una zona en particular, con la posibilidad de descarga.\n"
      ],
      "metadata": {
        "id": "XqxFFF11dcos"
      },
      "id": "XqxFFF11dcos"
    },
    {
      "cell_type": "markdown",
      "source": [
        "\n",
        "Para realizar esta metodología se partió de un código en Google Earth Engine elaborado por el Departamento de Aplicaciones Geoespaciales, de la Dirección de Información Geoespacial, del Instituto Geográfico Nacional: \"Detección del límite agua-tierra mediante el algoritmo mínima distancia en la nube de Google Earth Engine\", que a través del uso de técnicas de teledetección, imágenes SENTINEL-2A/B MSI Nivel 1C y métodos estadísticos como distancia mínima se obtiene un clasificación de Agua/Tierra o Agua/No Agua.\n"
      ],
      "metadata": {
        "id": "8yowTmEbKxwo"
      },
      "id": "8yowTmEbKxwo"
    },
    {
      "cell_type": "markdown",
      "source": [
        "\n",
        "\n",
        "---\n",
        "\n",
        "Para hacer uso de esta aplicación se deben seguir una serie de pasos. El más importante está en el punto 3, ya que se deben elegir algunos parámetros. Luego, no es necesario hacer modificaciones en otra solapa para que funcione (a menos que se desee modificar algo del código).\n",
        "\n",
        "Algunas cuestiones a tener en cuenta:\n",
        "\n",
        "* Se recomienda **ejecutar el código con las solapas colapsadas**, así se asegura que se ejecutan todas las líneas necesarias.\n",
        "\n",
        "* Las **solapas con * se deben abrir luego de ejecutarlas**, para realizar alguna acción.\n",
        "\n",
        "* En Colab, las **sesiones son temporales** y los recursos son compartidos, por lo que si no hay interacción con el cuaderno en un cierto periódo de tiempo la sesión se desconecta y probablemente al ejecutar alguna línea de código se generará un **error**. Para solucionarlo, simplemente se deben volver a ejecutar los pasos desde el primero.\n",
        "\n",
        "---\n"
      ],
      "metadata": {
        "id": "R9ZomE4kJ0Az"
      },
      "id": "R9ZomE4kJ0Az"
    },
    {
      "cell_type": "markdown",
      "source": [
        "## 1. Instalacion de bibliotecas\n",
        "Se debe **autorizar** la conexión con Drive."
      ],
      "metadata": {
        "id": "b0iYSwPPqQfv"
      },
      "id": "b0iYSwPPqQfv"
    },
    {
      "cell_type": "code",
      "source": [
        "from google.colab import drive\n",
        "drive.mount('/content/drive')"
      ],
      "metadata": {
        "id": "LZu4zOGhwZdD"
      },
      "id": "LZu4zOGhwZdD",
      "execution_count": null,
      "outputs": []
    },
    {
      "cell_type": "code",
      "execution_count": null,
      "metadata": {
        "id": "ORRCHDMcIGfX"
      },
      "outputs": [],
      "source": [
        "!pip install geemap\n",
        "!pip install requests\n",
        "!pip install pycrs"
      ],
      "id": "ORRCHDMcIGfX"
    },
    {
      "cell_type": "markdown",
      "source": [
        "## 2. Instalación de módulos *\n",
        "Se debe autorizar el acceso que necesita GEE. Para ello se debe ejecutar el código, y luego, **abrir la solapa** e ingresar al **URL** del segundo bloque y seguir la instrucciones. Esto genera un código de verificación que debe ser pegado a continuación."
      ],
      "metadata": {
        "id": "uTkJdAI3xSOW"
      },
      "id": "uTkJdAI3xSOW"
    },
    {
      "cell_type": "code",
      "execution_count": null,
      "metadata": {
        "id": "ckykqI4EIGfa"
      },
      "outputs": [],
      "source": [
        "import ee\n",
        "import geemap\n",
        "import ipywidgets as widgets\n",
        "from datetime import datetime\n",
        "import pandas as pd\n",
        "import requests\n",
        "from IPython.display import display\n",
        "import os"
      ],
      "id": "ckykqI4EIGfa"
    },
    {
      "cell_type": "markdown",
      "source": [
        "En el siguiente paso se deberá **ingresar al URL**, y luego, **pegar el código** generado."
      ],
      "metadata": {
        "id": "KrsHJmm6vMRX"
      },
      "id": "KrsHJmm6vMRX"
    },
    {
      "cell_type": "code",
      "source": [
        "!earthengine authenticate"
      ],
      "metadata": {
        "id": "89utJ8VYQvau"
      },
      "id": "89utJ8VYQvau",
      "execution_count": null,
      "outputs": []
    },
    {
      "cell_type": "markdown",
      "source": [
        "## 3. Mapa base, área de estudio y período de tiempo *\n",
        "Se debe ejecutar este punto y luego extender la solapa. Se cargará un mapa y debajo se desplegarán algunas opciones tales como **período de tiempo** de las imágenes, y **forma de selección del área** a clasificar.\n",
        "\n",
        "Si se elige la opción \"*Dibujar polígono en el mapa*\", con las herramientas de dibujo, se debe trazar el polígono. Tener en cuenta, que producto de las limitaciones de GEE, es recomendable trabajar en un área pequeña.\n",
        "\n",
        "Si la opción es \"*Utilizar carta*\", debajo se imprimirá una lista con todas las opciones de cartas 1:50.000 (a medida que se presionan se van cargando en el mapa). En este caso se debe seleccionar una para la clasificación.\n",
        "\n",
        "\n",
        "---En este punto es **muy importante completar parámetros**, básicamente para que funcione la aplicación---\n",
        "\n"
      ],
      "metadata": {
        "id": "EFhhBuQcxaWz"
      },
      "id": "EFhhBuQcxaWz"
    },
    {
      "cell_type": "code",
      "source": [
        "ee.Initialize()# Inicializar Earth Engine\n",
        "\n",
        "Map = geemap.Map(center=(-40, -64), zoom=4) #crear el mapa inetrcativo con coordenadas especificas\n",
        "Map.add_basemap('HYBRID')\n",
        "Map #cargar mapa"
      ],
      "metadata": {
        "id": "RBy1WAYK2NN_"
      },
      "execution_count": null,
      "outputs": [],
      "id": "RBy1WAYK2NN_"
    },
    {
      "cell_type": "markdown",
      "source": [
        "### Interfaz código"
      ],
      "metadata": {
        "id": "vkKcnVe1VjBS"
      },
      "id": "vkKcnVe1VjBS"
    },
    {
      "cell_type": "code",
      "source": [
        "#..................................................... Cartas\n",
        "cartas = ee.FeatureCollection(\"projects/e-tenglerevelyn/assets/Cartas_50000\")\n",
        "\n",
        "# Obtener los valores únicos de la columna \"carac\"\n",
        "valoresCarac = cartas.aggregate_array(\"carac\").distinct().getInfo()\n",
        "\n",
        "# Crear etiquetas\n",
        "etiqueta = widgets.Label(value='Seleccione una carta 1:50.000')\n",
        "etiqueta_fecha = widgets.Label(value='Elija el período de las imágenes')\n",
        "\n",
        "# Crear una lista desplegable con los registros\n",
        "lista_registros = widgets.Select(options=valoresCarac, description='Opciones')\n",
        "\n",
        "\n",
        "# Definir una función para manejar el evento de cambio de selección\n",
        "def on_value_change(change):\n",
        "    valor_carta = change['new']\n",
        "    geometria_seleccionada = cartas.filter(ee.Filter.eq(\"carac\", valor_carta))\n",
        "\n",
        "    Map.addLayer(geometria_seleccionada, {}, 'Geometría seleccionada')\n",
        "\n",
        "\n",
        "# Registrar la función de manejo del evento de cambio\n",
        "lista_registros.observe(on_value_change, names='value')\n",
        "\n",
        "\n",
        "\n",
        "#..................................................... Período de tiempo\n",
        "date_picker_inicio = widgets.DatePicker(\n",
        "    description='Fecha inicial:',\n",
        "    value=datetime.now().date(),  # Establecer la fecha actual como valor inicial\n",
        "    disabled=False\n",
        ")\n",
        "\n",
        "date_picker_fin = widgets.DatePicker(\n",
        "    description='Fecha final:',\n",
        "    value=datetime.now().date(),  # Establecer la fecha actual como valor inicial\n",
        "    disabled=False\n",
        ")\n",
        "\n",
        "hbox_fecha= widgets.HBox([date_picker_inicio, date_picker_fin])\n",
        "\n",
        "#..............................................................\n",
        "\n",
        "opcion_area = widgets.RadioButtons(\n",
        "    options=['Dibujar polígono en el mapa', 'Utilizar carta 1:50.000'],\n",
        "    description='Seleccionar forma de determinar el área: ',\n",
        "    layout=widgets.Layout(width='50%')\n",
        ")\n"
      ],
      "metadata": {
        "id": "YBL__wG_pIAi"
      },
      "id": "YBL__wG_pIAi",
      "execution_count": null,
      "outputs": []
    },
    {
      "cell_type": "markdown",
      "source": [
        "### Interfaz visual *\n",
        "Se  debe modifcar la **fecha** y la **forma de selección del área** de interés para la clasificación."
      ],
      "metadata": {
        "id": "31B0R8Bzgail"
      },
      "id": "31B0R8Bzgail"
    },
    {
      "cell_type": "code",
      "source": [
        "widgets.VBox([etiqueta_fecha,hbox_fecha, opcion_area])"
      ],
      "metadata": {
        "id": "zxuBDKDkW5n7"
      },
      "id": "zxuBDKDkW5n7",
      "execution_count": null,
      "outputs": []
    },
    {
      "cell_type": "markdown",
      "source": [
        "En caso de elegir la opción Dibujar polígono en el mapa\", con las herramientas de dibujo, se debe trazar el polígono.\n",
        "\n",
        "Si se elije la opción \"Utilizar carta 1:50.000\" se debe seleccionar una a continuación. Tener en cuenta que al presionar alguna se va cargando en el mapa para visualizar."
      ],
      "metadata": {
        "id": "mSVxGhr1iYCB"
      },
      "id": "mSVxGhr1iYCB"
    },
    {
      "cell_type": "code",
      "source": [
        "display(etiqueta, lista_registros)"
      ],
      "metadata": {
        "id": "94jFYI30fcR0"
      },
      "id": "94jFYI30fcR0",
      "execution_count": null,
      "outputs": []
    },
    {
      "cell_type": "markdown",
      "source": [
        "## 4. Entrenamiento\n",
        "Simplemente se debe ejecutar, no es necesario modificar nada en este punto, a menos que se desee cambiar algún parámetro del ENTRENAMIENTO del algoritmo, como son las muestras, región o período.\n",
        "\n",
        "*Si se considera que el resultado obtenido de aplicar todo este algoritmo (sin modificar parámetros de esta solapa de entrenamiento) no genera un buen resultado, se pueden agregar puntos de muestreo de la zona en particular de interés (para ello se debe descomentar el código de la pestaña \"Agregar muestras para un mejor resultado\" y seguir los pasos)"
      ],
      "metadata": {
        "id": "6G9kql_L1JF-"
      },
      "id": "6G9kql_L1JF-"
    },
    {
      "cell_type": "markdown",
      "source": [
        "### Muestras preestablecidas del entrenamiento"
      ],
      "metadata": {
        "id": "kKbXQQ3uqnbI"
      },
      "id": "kKbXQQ3uqnbI"
    },
    {
      "cell_type": "code",
      "source": [
        "# MUESTRAS\n",
        "muestras = ee.FeatureCollection(\"projects/ee-gonzalodgign/assets/AguaTierra/Muestras_Argentina_Borrador\")\n",
        "#Map.addLayer(muestras, {}, 'muestras')\n",
        "\n",
        "# ZONA DE ENTRENAMIENTO\n",
        "zona_muestreo = ee.FeatureCollection(\"projects/ee-tenglerevelyn/assets/AREA_A-T\")\n",
        "#Map.addLayer(zona_muestreo, {}, 'zona_muestreo')"
      ],
      "metadata": {
        "id": "cLePijKBqlLl"
      },
      "id": "cLePijKBqlLl",
      "execution_count": null,
      "outputs": []
    },
    {
      "cell_type": "markdown",
      "source": [
        "### Agregar muestras para un mejor resultado"
      ],
      "metadata": {
        "id": "1w0nVdu20O57"
      },
      "id": "1w0nVdu20O57"
    },
    {
      "cell_type": "markdown",
      "source": [
        "Para agregar puntos de muestreo se debe subir a drive 3 archivos:\n",
        "\n",
        "- Un shp con puntos de muestreo para categoría agua (debe tener una columna class con valor 1)\n",
        "\n",
        "- Un shp con puntos de muestreo para la categoría no agua/tierra (debe tener una columna class con valor 2)\n",
        "\n",
        "- Un shp de polígono cuya extención debe encerrar todos los nuevos puntos de muestreo anteriores.\n",
        "\n",
        "Para que funcione se debe descomentar las líneas con un solo # del siguiente código.\n",
        "\n"
      ],
      "metadata": {
        "id": "ZwK5DvXOgvgm"
      },
      "id": "ZwK5DvXOgvgm"
    },
    {
      "cell_type": "code",
      "source": [
        "## ...... AGUA\n",
        "\n",
        "#shp_path_agua = \"ACÁ VA LA RUTA AL ARCHIVO SHP DE LOS PUNTOS DE MUESTREO DE LA CATEGORÍA AGUA EN DRIVE\"\n",
        "\n",
        "### Cargar archivo SHP como FeatureCollection utilizando geemap\n",
        "#muestras_extra_agua = geemap.shp_to_ee(shp_path_agua)\n",
        "\n",
        "### Visualizar FeatureCollection en el mapa\n",
        "#Map.addLayer(muestras_extra_agua, {}, 'muestras_extra_A')\n",
        "\n",
        "### Unir las muestras de agua nuevas con las preestablecidas\n",
        "#muestras.merge(muestras_extra_agua)"
      ],
      "metadata": {
        "id": "UjkN43V-bToL"
      },
      "id": "UjkN43V-bToL",
      "execution_count": null,
      "outputs": []
    },
    {
      "cell_type": "code",
      "source": [
        "## ...... NO AGUA/TIERRA\n",
        "\n",
        "#shp_path_tierra = \"ACÁ VA LA RUTA AL ARCHIVO SHP DE LOS PUNTOS DE MUESTREO DE LA CATEGORÍA NO AGUA/TIERRA EN DRIVE\"\n",
        "\n",
        "### Cargar archivo SHP como FeatureCollection utilizando geemap\n",
        "#muestras_extra_tierra = geemap.shp_to_ee(shp_path_tierra)\n",
        "\n",
        "### Visualizar FeatureCollection en el mapa\n",
        "#Map.addLayer(muestras_extra_tierra, {}, 'muestras_extra_T')\n",
        "\n",
        "### Unir las muestras de agua nuevas con las preestablecidas\n",
        "#muestras.merge(muestras_extra_tierra)"
      ],
      "metadata": {
        "id": "_xmsD3iZgWFa"
      },
      "id": "_xmsD3iZgWFa",
      "execution_count": null,
      "outputs": []
    },
    {
      "cell_type": "code",
      "source": [
        "## ...... EXTENCION\n",
        "\n",
        "#shp_path_extencion = \"ACÁ VA LA RUTA AL ARCHIVO SHP DEL POLÍGONO EN DRIVE\"\n",
        "\n",
        "### Cargar archivo SHP como FeatureCollection utilizando geemap\n",
        "#extencion_extra = geemap.shp_to_ee(shp_path_extencion)\n",
        "\n",
        "### Visualizar FeatureCollection en el mapa\n",
        "#Map.addLayer(extencion_extra, {}, 'extencion_extra')\n",
        "\n",
        "### Unir la extencion nueva con la preestablecida\n",
        "#zona_muestreo.merge(extencion_extra)"
      ],
      "metadata": {
        "id": "Lq9o9PwZBCQ4"
      },
      "id": "Lq9o9PwZBCQ4",
      "execution_count": null,
      "outputs": []
    },
    {
      "cell_type": "markdown",
      "source": [
        "### Colección de imágenes del entrenamiento\n",
        "\n",
        "Se puede modificar el período de entrenamiento."
      ],
      "metadata": {
        "id": "p0dalyeGtJQx"
      },
      "id": "p0dalyeGtJQx"
    },
    {
      "cell_type": "code",
      "source": [
        "# Colección de imágenes Sentinel 2\n",
        "s2 = ee.ImageCollection(\"COPERNICUS/S2\") \\\n",
        "    .filterDate('2023-01-01', '2023-03-31') \\\n",
        "    .filterBounds(zona_muestreo) \\\n",
        "    .filterMetadata('CLOUDY_PIXEL_PERCENTAGE', 'less_than', 0.2)\n",
        "\n",
        "s2c_ = s2.reduce(ee.Reducer.mean())\n",
        "s2c = s2c_.clip(zona_muestreo)\n",
        "\n",
        "# Añadir capa al mapa\n",
        "#Map.addLayer(s2c, imageVisParam2, 'S2')"
      ],
      "metadata": {
        "id": "4ycs1EpssPMD"
      },
      "id": "4ycs1EpssPMD",
      "execution_count": null,
      "outputs": []
    },
    {
      "cell_type": "markdown",
      "source": [
        "### Indices espectrales"
      ],
      "metadata": {
        "id": "EaFdRjlU6xQv"
      },
      "id": "EaFdRjlU6xQv"
    },
    {
      "cell_type": "code",
      "source": [
        "# NDWI\n",
        "NDWI = s2c.normalizedDifference(['B3_mean', 'B8_mean']).rename('NDWImean')\n",
        "\n",
        "# Stack\n",
        "stackIslas_a = NDWI"
      ],
      "metadata": {
        "id": "H8mL_Wwm61ca"
      },
      "id": "H8mL_Wwm61ca",
      "execution_count": null,
      "outputs": []
    },
    {
      "cell_type": "markdown",
      "source": [
        "### Entrenamiento"
      ],
      "metadata": {
        "id": "TEnxb7QrtdkR"
      },
      "id": "TEnxb7QrtdkR"
    },
    {
      "cell_type": "code",
      "source": [
        "muestras_1 = muestras.randomColumn('random')\n",
        "\n",
        "# División de muestras\n",
        "entrenamiento = muestras_1.filter(ee.Filter.lt('random', 0.7))\n",
        "validacion = muestras_1.filter(ee.Filter.gt('random', 0.7))\n",
        "\n",
        "# Entrenar el clasificador utilizando datos de muestras\n",
        "training = stackIslas_a.sampleRegions(\n",
        "  collection=entrenamiento,\n",
        "  properties=['class', 'random'],\n",
        "  scale=30\n",
        ")\n",
        "\n",
        "# Bandas a utilizar en la clasificación\n",
        "bandas_sel = ['NDWImean']\n",
        "\n",
        "# Entrenar clasificador RF\n",
        "classifier = ee.Classifier.minimumDistance().train(\n",
        "    features = training,\n",
        "    classProperty = 'class',\n",
        "    inputProperties = bandas_sel\n",
        ")"
      ],
      "metadata": {
        "id": "mS2w4TpqJ1xs"
      },
      "id": "mS2w4TpqJ1xs",
      "execution_count": null,
      "outputs": []
    },
    {
      "cell_type": "markdown",
      "source": [
        "### Validación"
      ],
      "metadata": {
        "id": "NDBTnUwqsJ2l"
      },
      "id": "NDBTnUwqsJ2l"
    },
    {
      "cell_type": "code",
      "source": [
        "###Si se desea ver los resultados de la validación se debe descomentar las lineas con un solo # del siguiente código\n",
        "### Clasifico la imagen\n",
        "#classified_entrenamiento = stackIslas_a.classify(classifier)\n",
        "\n",
        "### Muestrear las regiones\n",
        "#test = classified_entrenamiento.sampleRegions(**{\n",
        "#  'collection': validacion,\n",
        "#  'properties': ['class'],\n",
        "#  'scale': 30\n",
        "#})\n",
        "\n",
        "## Obtener la matriz de confusión\n",
        "#testConfusionMatrix = test.errorMatrix('class', 'classification')\n",
        "\n",
        "### Convertir la matriz de confusión a un DataFrame de pandas\n",
        "#confusion_df = pd.DataFrame(testConfusionMatrix.getInfo())\n",
        "\n",
        "### Imprimir la matriz de confusión como tabla\n",
        "#print(confusion_df)"
      ],
      "metadata": {
        "id": "SdtOB1K2sKLs"
      },
      "id": "SdtOB1K2sKLs",
      "execution_count": null,
      "outputs": []
    },
    {
      "cell_type": "markdown",
      "source": [
        "## 5. Clasificación\n",
        "Una vez que se ejecuta este código, se **carga el resultado** en el mapa del punto 3. Tener en cuenta que mientras mas grande es la zona de análisis mas tardará el proceso."
      ],
      "metadata": {
        "id": "JqOgN6cT0-ix"
      },
      "id": "JqOgN6cT0-ix"
    },
    {
      "cell_type": "markdown",
      "source": [
        "### Funciones"
      ],
      "metadata": {
        "id": "csMezLQ2cL2i"
      },
      "id": "csMezLQ2cL2i"
    },
    {
      "cell_type": "code",
      "source": [
        "def obtenerFecha():\n",
        "    # Obtener las fechas seleccionadas\n",
        "    fecha_inicio = date_picker_inicio.value\n",
        "    fecha_fin = date_picker_fin.value\n",
        "\n",
        "    # Convertir las fechas al formato deseado ('YYYY-MM-DD')\n",
        "    fecha_inicio_str = fecha_inicio.strftime('%Y-%m-%d')\n",
        "    fecha_fin_str = fecha_fin.strftime('%Y-%m-%d')\n",
        "\n",
        "    # Convertir las fechas en objetos ee.Date\n",
        "    fecha_inicio_ee = ee.Date(fecha_inicio_str)\n",
        "    fecha_fin_ee = ee.Date(fecha_fin_str)\n",
        "\n",
        "    # Utilizar las fechas convertidas en el parámetro time_interval\n",
        "    time_interval = (fecha_inicio_ee, fecha_fin_ee)\n",
        "\n",
        "    # Retornar el resultado\n",
        "    return time_interval\n",
        "\n",
        "obtenerFecha()"
      ],
      "metadata": {
        "id": "aAZPDaxYcL_v"
      },
      "id": "aAZPDaxYcL_v",
      "execution_count": null,
      "outputs": []
    },
    {
      "cell_type": "markdown",
      "source": [
        "### Estilo"
      ],
      "metadata": {
        "id": "mA9Y6DdirlTc"
      },
      "id": "mA9Y6DdirlTc"
    },
    {
      "cell_type": "code",
      "source": [
        "# Color de categorías Agua/NoAgua\n",
        "N1Color = [\n",
        "    '#0000ff',  # Corriente de agua - clase 1\n",
        "    '#764C04'  # Tierra/NoAgua - clase 2\n",
        "]\n",
        "\n",
        "imageVisParam2 = {\n",
        "    'bands': [\"B3_mean\", \"B2_mean\", \"B1_mean\"],\n",
        "    'gamma': 1,\n",
        "    'max': 2789.728888888889,\n",
        "    'min': 1875.3822222222223,\n",
        "    'opacity': 1\n",
        "}\n"
      ],
      "metadata": {
        "id": "grOcu8Y9rlaB"
      },
      "id": "grOcu8Y9rlaB",
      "execution_count": null,
      "outputs": []
    },
    {
      "cell_type": "markdown",
      "source": [
        "### Región a clasificar"
      ],
      "metadata": {
        "id": "1jWQ6uyMq_qt"
      },
      "id": "1jWQ6uyMq_qt"
    },
    {
      "cell_type": "code",
      "source": [
        "from zmq.constants import NULL\n",
        "####....................................................................... formas de elegir un área de interés\n",
        "\n",
        "selected_value = opcion_area.value\n",
        "print(\"Valor seleccionado:\", selected_value)\n",
        "\n",
        "if (selected_value == 'Dibujar polígono en el mapa'):\n",
        "  # ..................................................Región DIBUJADA\n",
        "  Map.draw_features\n",
        "  if (Map.draw_last_feature != None):\n",
        "    extencion = ee.FeatureCollection(Map.draw_last_feature)#Roi Bounding Box (guarda en variable el bbox)\n",
        "    #print(\"ok\")\n",
        "else:\n",
        "  # ..................................................Región CARTA\n",
        "  valor_carta = lista_registros.value\n",
        "  geometria_seleccionada = cartas.filter(ee.Filter.eq(\"carac\", valor_carta))\n",
        "  extencion = ee.FeatureCollection(geometria_seleccionada)\n",
        "####..............................................................................................................\n",
        "\n",
        "\n",
        "\n",
        "\n",
        "# .................................................. Colección de imágenes Sentinel 2\n",
        "s2_b = ee.ImageCollection(\"COPERNICUS/S2\") \\\n",
        "    .filterDate(*obtenerFecha()) \\\n",
        "    .filterBounds(extencion) \\\n",
        "    .filterMetadata('CLOUDY_PIXEL_PERCENTAGE', 'less_than', 0.2)\n",
        "\n",
        "s2c_b = s2_b.reduce(ee.Reducer.mean())\n",
        "s2c_b = s2c_b.clip(extencion)\n",
        "\n",
        "# Añadir capa al mapa\n",
        "#Map.addLayer(s2c_b, imageVisParam2, 'S2')\n",
        "#Map.centerObject(BOCA, 5)\n",
        "\n",
        "# NDWI\n",
        "NDWI_b = s2c_b.normalizedDifference(['B3_mean', 'B8_mean']).rename('NDWImean')\n",
        "\n",
        "# Stack\n",
        "stackIslas_b = NDWI_b\n"
      ],
      "metadata": {
        "id": "6sWT5IO40-tG"
      },
      "id": "6sWT5IO40-tG",
      "execution_count": null,
      "outputs": []
    },
    {
      "cell_type": "code",
      "source": [
        "# Clasificar la imagen\n",
        "classified_b = stackIslas_b.classify(classifier)\n",
        "\n",
        "# Añadir capa clasificada al mapa\n",
        "Map.addLayer(classified_b, {'min': 1, 'max': 2, 'palette': N1Color}, 'Clasificado')"
      ],
      "metadata": {
        "id": "6r1CFQW1ScxS"
      },
      "id": "6r1CFQW1ScxS",
      "execution_count": null,
      "outputs": []
    },
    {
      "cell_type": "markdown",
      "source": [
        "## 6. Descarga Raster *\n",
        "\n",
        "Este paso es **opcional**. Al ejecutarlo se genera un link para la descarga del archivo Raster de la clasificación (extender la solapa para verlo).\n",
        "\n",
        "*Tener en cuenta que GEE tiene algunas limitaciones de procesamiento, por lo que puede lanzar errores cuando la región sea muy grande. Para ello es recomendable trabajar con regiones del tamaño de una carta 1:50.000 o menores"
      ],
      "metadata": {
        "id": "jjcps6b7gaf6"
      },
      "id": "jjcps6b7gaf6"
    },
    {
      "cell_type": "code",
      "source": [
        "url = classified_b.getDownloadURL({\n",
        "    'name': 'LimiteAguaTierra',\n",
        "    'scale': 10,\n",
        "    'region': extencion.geometry()\n",
        "})\n",
        "\n",
        "print(url)"
      ],
      "metadata": {
        "id": "7mrb0ggcgvhy"
      },
      "id": "7mrb0ggcgvhy",
      "execution_count": null,
      "outputs": []
    },
    {
      "cell_type": "markdown",
      "source": [
        "## 7. Vectorización y descarga *\n",
        "\n",
        "Este paso es **opcional**.\n",
        "\n",
        "El archivo vectorial resultante se **descarga en Drive**. En la pestaña \"Descargar archivo vectroizado\" se puede modificar la línea \"descripcion = 'Linea_de_Agua'\" con el nombre que tendrá el archivo. La descarga puede tardar varios minutos y una vez finalizado se debe buscar el archivo en nuestro Drive.\n",
        "\n",
        "En el resultado final el agua se distingue por la columna label con valor 1 y no agua/tierra el valor 2.\n",
        "\n",
        "\n",
        "*Tener en cuenta que GEE tiene algunas limitaciones de procesamiento, por lo que puede lanzar errores cuando la región sea muy grande. Para ello es recomendable trabajar con regiones del tamaño de una carta 1:50.000 o menores\n"
      ],
      "metadata": {
        "id": "YvUF32VTG_Gr"
      },
      "id": "YvUF32VTG_Gr"
    },
    {
      "cell_type": "markdown",
      "source": [
        "### Vectorizar"
      ],
      "metadata": {
        "id": "TnpeffHGNwVV"
      },
      "id": "TnpeffHGNwVV"
    },
    {
      "cell_type": "code",
      "source": [
        "vectores = classified_b.reduceToVectors(\n",
        "    reducer= ee.Reducer.countEvery(),\n",
        "    scale=10,\n",
        "    geometry = extencion\n",
        ")\n",
        "\n",
        "#print(vectores)\n",
        "Map.addLayer(vectores, {}, 'Vectorizado')"
      ],
      "metadata": {
        "id": "EuVYbEPKGLIS"
      },
      "id": "EuVYbEPKGLIS",
      "execution_count": null,
      "outputs": []
    },
    {
      "cell_type": "markdown",
      "source": [
        "### Descargar archivo vectorizado"
      ],
      "metadata": {
        "id": "HupNw1zcipWw"
      },
      "id": "HupNw1zcipWw"
    },
    {
      "cell_type": "code",
      "source": [
        "# Obtener la colección de entidades que deseas exportar\n",
        "Agua = ee.FeatureCollection(vectores)\n",
        "\n",
        "# Definir los parámetros de exportación\n",
        "descripcion = 'Linea_de_Agua' #MODIFCAR\n",
        "formato = 'SHP'  # Puedes cambiar el formato según tus necesidades\n",
        "\n",
        "# Configurar la exportación\n",
        "exportacion = ee.batch.Export.table.toDrive(\n",
        "    collection=Agua,\n",
        "    description=descripcion,\n",
        "    folder='',\n",
        "    fileNamePrefix=descripcion,\n",
        "    fileFormat=formato\n",
        ")\n",
        "\n",
        "# Iniciar la exportación\n",
        "exportacion.start()"
      ],
      "metadata": {
        "id": "OO4mKEuCitvc"
      },
      "id": "OO4mKEuCitvc",
      "execution_count": null,
      "outputs": []
    },
    {
      "cell_type": "markdown",
      "source": [
        "### Correr la siguiente línea las veces que sea necesario hasta que el estado sea COMPLETED, que será cuando se haya descargado el resultado en nuestro Drive. Tener en cuenta que puede tardar unos minutos."
      ],
      "metadata": {
        "id": "llfCppqni2N9"
      },
      "id": "llfCppqni2N9"
    },
    {
      "cell_type": "code",
      "source": [
        "status = exportacion.status()\n",
        "print(\"Estado de la exportación:\", status[\"state\"])"
      ],
      "metadata": {
        "id": "fFGOjnDxi2vF"
      },
      "id": "fFGOjnDxi2vF",
      "execution_count": null,
      "outputs": []
    },
    {
      "cell_type": "markdown",
      "source": [
        "## 8. Tratamiento al archivo vectorial\n",
        "\n",
        "Una vez descargado el vector, se le puede realizar una serie de procesos para un mejor resultado. Para ello se pueden utilizar las herramientas de QGis de simplificado y suavizado."
      ],
      "metadata": {
        "id": "2ihShntPM3Bk"
      },
      "id": "2ihShntPM3Bk"
    }
  ],
  "metadata": {
    "kernelspec": {
      "display_name": "Python 3",
      "language": "python",
      "name": "python3"
    },
    "colab": {
      "provenance": [],
      "collapsed_sections": [
        "b0iYSwPPqQfv",
        "uTkJdAI3xSOW",
        "EFhhBuQcxaWz",
        "vkKcnVe1VjBS",
        "31B0R8Bzgail",
        "6G9kql_L1JF-",
        "kKbXQQ3uqnbI",
        "1w0nVdu20O57",
        "p0dalyeGtJQx",
        "EaFdRjlU6xQv",
        "TEnxb7QrtdkR",
        "NDBTnUwqsJ2l",
        "JqOgN6cT0-ix",
        "csMezLQ2cL2i",
        "mA9Y6DdirlTc",
        "1jWQ6uyMq_qt",
        "jjcps6b7gaf6",
        "YvUF32VTG_Gr",
        "TnpeffHGNwVV",
        "HupNw1zcipWw"
      ],
      "include_colab_link": true
    }
  },
  "nbformat": 4,
  "nbformat_minor": 5
}